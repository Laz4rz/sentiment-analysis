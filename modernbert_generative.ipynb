{
 "cells": [
  {
   "cell_type": "code",
   "execution_count": 1,
   "metadata": {},
   "outputs": [],
   "source": [
    "from datasets import load_dataset\n",
    "\n",
    "ds = load_dataset(\"zeroshot/twitter-financial-news-sentiment\")"
   ]
  },
  {
   "cell_type": "code",
   "execution_count": 2,
   "metadata": {},
   "outputs": [
    {
     "data": {
      "text/plain": [
       "Dataset({\n",
       "    features: ['labels', 'input_ids', 'attention_mask'],\n",
       "    num_rows: 9543\n",
       "})"
      ]
     },
     "execution_count": 2,
     "metadata": {},
     "output_type": "execute_result"
    }
   ],
   "source": [
    "from transformers import AutoTokenizer\n",
    " \n",
    "model_id = \"answerdotai/ModernBERT-base\"\n",
    "tokenizer = AutoTokenizer.from_pretrained(model_id)\n",
    " \n",
    "\n",
    "def tokenize(batch):\n",
    "    return tokenizer(batch['text'], padding=True, truncation=True)\n",
    " \n",
    "\n",
    "if \"label\" in ds[\"train\"].features.keys():\n",
    "    split_dataset =  ds.rename_column(\"label\", \"labels\") \n",
    "tokenized_dataset = split_dataset.map(tokenize, batched=True, remove_columns=[\"text\"])\n",
    " \n",
    "tokenized_dataset[\"train\"]"
   ]
  },
  {
   "cell_type": "code",
   "execution_count": 48,
   "metadata": {},
   "outputs": [
    {
     "data": {
      "application/vnd.jupyter.widget-view+json": {
       "model_id": "77ef702bb0004af494d2150939938408",
       "version_major": 2,
       "version_minor": 0
      },
      "text/plain": [
       "config.json:   0%|          | 0.00/1.41k [00:00<?, ?B/s]"
      ]
     },
     "metadata": {},
     "output_type": "display_data"
    },
    {
     "data": {
      "application/vnd.jupyter.widget-view+json": {
       "model_id": "f774364df4f0433ea35bb030c35e6cd4",
       "version_major": 2,
       "version_minor": 0
      },
      "text/plain": [
       "model.safetensors:   0%|          | 0.00/792M [00:00<?, ?B/s]"
      ]
     },
     "metadata": {},
     "output_type": "display_data"
    }
   ],
   "source": [
    "from transformers import AutoModelForMaskedLM\n",
    " \n",
    "model_id = \"answerdotai/ModernBERT-Large-Instruct\"\n",
    " \n",
    "label2id = {\n",
    "    \"bearish\": 0,\n",
    "    \"bullish\": 1,\n",
    "    \"neutral\": 2,\n",
    "}\n",
    "\n",
    "id2label = {v: k for k, v in label2id.items()}\n",
    "\n",
    "model = AutoModelForMaskedLM.from_pretrained(model_id)\n"
   ]
  },
  {
   "cell_type": "code",
   "execution_count": 49,
   "metadata": {},
   "outputs": [
    {
     "name": "stdout",
     "output_type": "stream",
     "text": [
      "[CLS]\n",
      "This\n",
      " is\n",
      " a\n",
      " bear\n",
      "ish\n",
      " tweet\n",
      "[MASK]\n",
      "[SEP]\n"
     ]
    }
   ],
   "source": [
    "input_ids = tokenizer(\"This is a bearish tweet [MASK]\", return_tensors=\"pt\").input_ids\n",
    "for token in input_ids[0]:\n",
    "    print(tokenizer.decode(token.item()))"
   ]
  },
  {
   "cell_type": "code",
   "execution_count": 50,
   "metadata": {},
   "outputs": [
    {
     "name": "stderr",
     "output_type": "stream",
     "text": [
      "Compiling the model with `torch.compile` and using a `torch.cpu` device is not supported. Falling back to non-compiled mode.\n"
     ]
    },
    {
     "data": {
      "text/plain": [
       "'[MASK]'"
      ]
     },
     "execution_count": 50,
     "metadata": {},
     "output_type": "execute_result"
    }
   ],
   "source": [
    "tokenizer._convert_id_to_token(model(input_ids).logits[:, -2, :].argmax(-1))"
   ]
  },
  {
   "cell_type": "code",
   "execution_count": 51,
   "metadata": {},
   "outputs": [],
   "source": [
    "import numpy as np\n",
    "from sklearn.metrics import f1_score, precision_score, recall_score\n",
    " \n",
    "def compute_metrics(eval_pred):\n",
    "    predictions, labels = eval_pred\n",
    "    predictions = np.argmax(predictions, axis=1)\n",
    "    f1 = f1_score(\n",
    "            labels, predictions, labels=labels, pos_label=1, average=\"weighted\"\n",
    "        )\n",
    "    precision = precision_score(\n",
    "        labels, predictions, labels=labels, pos_label=1, average=\"weighted\"\n",
    "    )\n",
    "    recall = recall_score(\n",
    "        labels, predictions, labels=labels, pos_label=1, average=\"weighted\"\n",
    "    )\n",
    "\n",
    "    return {\"f1\": float(f1) if f1 == 1 else f1, \"precision\": precision, \"recall\": recall}\n"
   ]
  },
  {
   "cell_type": "code",
   "execution_count": 52,
   "metadata": {},
   "outputs": [
    {
     "data": {
      "application/vnd.jupyter.widget-view+json": {
       "model_id": "e706950c6da34c56a18e887d688f2187",
       "version_major": 2,
       "version_minor": 0
      },
      "text/plain": [
       "tokenizer_config.json:   0%|          | 0.00/20.9k [00:00<?, ?B/s]"
      ]
     },
     "metadata": {},
     "output_type": "display_data"
    },
    {
     "data": {
      "application/vnd.jupyter.widget-view+json": {
       "model_id": "e2d91e4343b34a74a5fe2fb5cdd3be25",
       "version_major": 2,
       "version_minor": 0
      },
      "text/plain": [
       "tokenizer.json:   0%|          | 0.00/3.58M [00:00<?, ?B/s]"
      ]
     },
     "metadata": {},
     "output_type": "display_data"
    },
    {
     "data": {
      "application/vnd.jupyter.widget-view+json": {
       "model_id": "c4ffb494d605416d9a386a847be6c634",
       "version_major": 2,
       "version_minor": 0
      },
      "text/plain": [
       "special_tokens_map.json:   0%|          | 0.00/694 [00:00<?, ?B/s]"
      ]
     },
     "metadata": {},
     "output_type": "display_data"
    },
    {
     "name": "stderr",
     "output_type": "stream",
     "text": [
      "Device set to use cuda:0\n",
      "100%|██████████| 2388/2388 [01:55<00:00, 20.68it/s]\n"
     ]
    }
   ],
   "source": [
    "from tqdm import tqdm\n",
    "from transformers import pipeline\n",
    "\n",
    "fill_mask = pipeline(\"fill-mask\", model=model_id, tokenizer=model_id)\n",
    "\n",
    "template = \"\"\"You will be given a question and options. Select the right answer.\n",
    "    QUESTION: What is the financial sentiment of the following tweet: \"{tweet}\"?\n",
    "    CHOICES:\n",
    "    - A: bullish\n",
    "    - B: neutral\n",
    "    - C: bearish\n",
    "    ANSWER: [unusedo] [MASK]\"\"\"\n",
    "\n",
    "model.to(\"cuda\")\n",
    "\n",
    "predictions = []\n",
    "ground_truth = ds[\"validation\"][\"label\"]\n",
    "for example in tqdm(ds[\"validation\"]):\n",
    "    prediction = fill_mask(template.format(tweet=example[\"text\"]))[0][\"token_str\"].strip()\n",
    "    predictions.append(prediction)\n",
    "    "
   ]
  },
  {
   "cell_type": "code",
   "execution_count": 53,
   "metadata": {},
   "outputs": [
    {
     "name": "stdout",
     "output_type": "stream",
     "text": [
      "f1 score for the fill-mask pipeline: 0.5702823610636942\n"
     ]
    }
   ],
   "source": [
    "label2id = {\n",
    "    \"bearish\": 0,\n",
    "    \"bullish\": 1,\n",
    "    \"neutral\": 2,\n",
    "}\n",
    "\n",
    "letter2id = {\n",
    "    \"A\": 1,\n",
    "    \"B\": 2,\n",
    "    \"C\": 0,\n",
    "}\n",
    "\n",
    "answers = [letter2id.get(p, -1) for p in predictions]\n",
    "answers = np.array(answers)\n",
    "\n",
    "f1 = f1_score(ground_truth, answers, average=\"weighted\")\n",
    "\n",
    "print(\"f1 score for the fill-mask pipeline:\", f1)"
   ]
  },
  {
   "cell_type": "code",
   "execution_count": 54,
   "metadata": {},
   "outputs": [
    {
     "data": {
      "text/plain": [
       "UniqueCountsResult(values=array(['A', 'B', 'C', 'negative', 'neutral', 'positive'], dtype='<U8'), counts=array([  95, 1814,   35,  250,  187,    7]))"
      ]
     },
     "execution_count": 54,
     "metadata": {},
     "output_type": "execute_result"
    }
   ],
   "source": [
    "np.unique_counts(predictions)"
   ]
  },
  {
   "cell_type": "code",
   "execution_count": null,
   "metadata": {},
   "outputs": [],
   "source": []
  }
 ],
 "metadata": {
  "kernelspec": {
   "display_name": "base",
   "language": "python",
   "name": "python3"
  },
  "language_info": {
   "codemirror_mode": {
    "name": "ipython",
    "version": 3
   },
   "file_extension": ".py",
   "mimetype": "text/x-python",
   "name": "python",
   "nbconvert_exporter": "python",
   "pygments_lexer": "ipython3",
   "version": "3.11.10"
  }
 },
 "nbformat": 4,
 "nbformat_minor": 2
}
