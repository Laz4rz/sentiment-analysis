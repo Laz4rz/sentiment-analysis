{
 "cells": [
  {
   "cell_type": "code",
   "execution_count": 1,
   "metadata": {},
   "outputs": [],
   "source": [
    "from datasets import load_dataset\n",
    "\n",
    "ds = load_dataset(\"zeroshot/twitter-financial-news-sentiment\")"
   ]
  },
  {
   "cell_type": "code",
   "execution_count": 2,
   "metadata": {},
   "outputs": [
    {
     "data": {
      "text/plain": [
       "Dataset({\n",
       "    features: ['labels', 'input_ids', 'attention_mask'],\n",
       "    num_rows: 9543\n",
       "})"
      ]
     },
     "execution_count": 2,
     "metadata": {},
     "output_type": "execute_result"
    }
   ],
   "source": [
    "from transformers import AutoTokenizer, AutoModel, AutoModelForCausalLM\n",
    "\n",
    "tokenizer = AutoTokenizer.from_pretrained(\"Qwen/Qwen2.5-0.5B\")\n",
    " \n",
    "\n",
    "def tokenize(batch):\n",
    "    return tokenizer(batch['text'], padding=True, truncation=True)\n",
    " \n",
    "\n",
    "if \"label\" in ds[\"train\"].features.keys():\n",
    "    split_dataset =  ds.rename_column(\"label\", \"labels\") \n",
    "tokenized_dataset = split_dataset.map(tokenize, batched=True, remove_columns=[\"text\"])\n",
    " \n",
    "tokenized_dataset[\"train\"]"
   ]
  },
  {
   "cell_type": "code",
   "execution_count": 3,
   "metadata": {},
   "outputs": [],
   "source": [
    "from transformers import AutoModelForSequenceClassification\n",
    " \n",
    "# Model id to load the tokenizer\n",
    "model_id = \"answerdotai/ModernBERT-base\"\n",
    " \n",
    "label2id = {\n",
    "    \"bearish\": 0,\n",
    "    \"bullish\": 1,\n",
    "    \"neutral\": 2,\n",
    "}\n",
    "\n",
    "id2label = {v: k for k, v in label2id.items()}"
   ]
  },
  {
   "cell_type": "code",
   "execution_count": 4,
   "metadata": {},
   "outputs": [],
   "source": [
    "import numpy as np\n",
    "from sklearn.metrics import f1_score, precision_score, recall_score\n",
    " \n",
    "def compute_metrics(eval_pred):\n",
    "    predictions, labels = eval_pred\n",
    "    predictions = np.argmax(predictions, axis=1)\n",
    "    f1 = f1_score(\n",
    "            labels, predictions, labels=labels, pos_label=1, average=\"weighted\"\n",
    "        )\n",
    "    precision = precision_score(\n",
    "        labels, predictions, labels=labels, pos_label=1, average=\"weighted\"\n",
    "    )\n",
    "    recall = recall_score(\n",
    "        labels, predictions, labels=labels, pos_label=1, average=\"weighted\"\n",
    "    )\n",
    "\n",
    "    return {\"f1\": float(f1) if f1 == 1 else f1, \"precision\": precision, \"recall\": recall}\n"
   ]
  },
  {
   "cell_type": "code",
   "execution_count": 5,
   "metadata": {},
   "outputs": [],
   "source": [
    "import torch\n",
    "import torch.nn as nn\n",
    "\n",
    "\n",
    "class QwenClassifier(nn.Module):\n",
    "    def __init__(self, model_id=\"Qwen/Qwen2.5-0.5B\", num_labels=3):\n",
    "        super(QwenClassifier, self).__init__()\n",
    "        self.model_id = model_id\n",
    "        self.model = AutoModelForCausalLM.from_pretrained(self.model_id)\n",
    "        self.num_labels = num_labels\n",
    "        self.loss_type = nn.CrossEntropyLoss()\n",
    "\n",
    "    def forward(self, input_ids, attention_mask, labels):\n",
    "        outputs = self.model(input_ids, attention_mask=attention_mask)\n",
    "\n",
    "        # Compute last token indices once.\n",
    "        batch_size = outputs.logits.size(0)\n",
    "        batch_indices = torch.arange(batch_size, device=outputs.logits.device)\n",
    "        last_token_indices = attention_mask.sum(dim=1) - 1\n",
    "\n",
    "        # Gather the logits for the last non-padded token in each sequence.\n",
    "        final_logits = outputs.logits[batch_indices, last_token_indices, :]\n",
    "\n",
    "        # Mask out logits beyond self.num_labels in-place.\n",
    "        final_logits[:, self.num_labels:] = float(\"-inf\")\n",
    "\n",
    "        loss = self.loss_type(final_logits.view(-1, self.model.config.vocab_size), labels.view(-1))\n",
    "        return {\"loss\": loss, \"logits\": final_logits}\n",
    "\n",
    "    def predict(self, input_ids, attention_mask):\n",
    "        outputs = self.model(input_ids, attention_mask=attention_mask)\n",
    "        logits = outputs.logits[:, attention_mask.sum(dim=1)-1, :]\n",
    "        logits[:, :, self.num_labels:] = float(\"-inf\")\n",
    "\n",
    "        return torch.argmax(logits, dim=-1)\n",
    "\n",
    "\n",
    "model = QwenClassifier(num_labels=len(label2id))\n",
    "\n",
    "input_ids = torch.tensor(tokenized_dataset[\"train\"][\"input_ids\"][2]).unsqueeze(0)\n",
    "attention_mask = torch.tensor(tokenized_dataset[\"train\"][\"attention_mask\"][2]).unsqueeze(0)\n",
    "\n",
    "input_ids2 = torch.tensor(tokenized_dataset[\"train\"][\"input_ids\"][3]).unsqueeze(0)\n",
    "attention_mask2 = torch.tensor(tokenized_dataset[\"train\"][\"attention_mask\"][3]).unsqueeze(0)\n",
    "\n",
    "input_ids = torch.cat([input_ids, input_ids2], dim=0)\n",
    "attention_mask = torch.cat([attention_mask, attention_mask2], dim=0)\n",
    "\n",
    "# model.predict(input_ids, attention_mask)"
   ]
  },
  {
   "cell_type": "code",
   "execution_count": 6,
   "metadata": {},
   "outputs": [
    {
     "data": {
      "text/plain": [
       "0\n",
       "2    1566\n",
       "1     475\n",
       "0     347\n",
       "Name: count, dtype: int64"
      ]
     },
     "execution_count": 6,
     "metadata": {},
     "output_type": "execute_result"
    }
   ],
   "source": [
    "import pandas as pd\n",
    "\n",
    "pd.DataFrame(tokenized_dataset[\"validation\"][\"labels\"]).value_counts()"
   ]
  },
  {
   "cell_type": "code",
   "execution_count": 7,
   "metadata": {},
   "outputs": [
    {
     "name": "stdout",
     "output_type": "stream",
     "text": [
      "prediction: neutral expected: bearish f1 0.0\n"
     ]
    }
   ],
   "source": [
    "lp = []\n",
    "for batch in tokenized_dataset[\"validation\"]:\n",
    "    input_ids = torch.tensor(batch[\"input_ids\"]).unsqueeze(0)\n",
    "    attention_mask = torch.tensor(batch[\"attention_mask\"]).unsqueeze(0)\n",
    "    predictions = model.predict(input_ids, attention_mask)\n",
    "    lp.append(predictions.item())\n",
    "    for prediction in predictions:\n",
    "        print(\"prediction:\", id2label[prediction.item()], \"expected:\", id2label[batch[\"labels\"]], \"f1\", f1_score(lp, tokenized_dataset[\"validation\"][\"labels\"][:len(lp)], average=\"weighted\"))\n",
    "    break"
   ]
  },
  {
   "cell_type": "code",
   "execution_count": null,
   "metadata": {},
   "outputs": [
    {
     "name": "stderr",
     "output_type": "stream",
     "text": [
      "Detected kernel version 5.4.0, which is below the recommended minimum of 5.5.0; this can cause the process to hang. It is recommended to upgrade the kernel to the minimum version or higher.\n"
     ]
    },
    {
     "data": {
      "text/html": [
       "\n",
       "    <div>\n",
       "      \n",
       "      <progress value='898' max='1495' style='width:300px; height:20px; vertical-align: middle;'></progress>\n",
       "      [ 898/1495 02:17 < 01:31, 6.51 it/s, Epoch 3/5]\n",
       "    </div>\n",
       "    <table border=\"1\" class=\"dataframe\">\n",
       "  <thead>\n",
       " <tr style=\"text-align: left;\">\n",
       "      <th>Epoch</th>\n",
       "      <th>Training Loss</th>\n",
       "      <th>Validation Loss</th>\n",
       "      <th>F1</th>\n",
       "      <th>Precision</th>\n",
       "      <th>Recall</th>\n",
       "    </tr>\n",
       "  </thead>\n",
       "  <tbody>\n",
       "    <tr>\n",
       "      <td>0</td>\n",
       "      <td>No log</td>\n",
       "      <td>0.560549</td>\n",
       "      <td>0.875815</td>\n",
       "      <td>0.864184</td>\n",
       "      <td>0.889680</td>\n",
       "    </tr>\n",
       "    <tr>\n",
       "      <td>1</td>\n",
       "      <td>0.136700</td>\n",
       "      <td>0.627017</td>\n",
       "      <td>0.875079</td>\n",
       "      <td>0.873800</td>\n",
       "      <td>0.876764</td>\n",
       "    </tr>\n",
       "    <tr>\n",
       "      <td>2</td>\n",
       "      <td>0.063800</td>\n",
       "      <td>0.887516</td>\n",
       "      <td>0.874955</td>\n",
       "      <td>0.873817</td>\n",
       "      <td>0.876375</td>\n",
       "    </tr>\n",
       "    <tr>\n",
       "      <td>3</td>\n",
       "      <td>0.029500</td>\n",
       "      <td>1.064972</td>\n",
       "      <td>0.870642</td>\n",
       "      <td>0.881460</td>\n",
       "      <td>0.860485</td>\n",
       "    </tr>\n",
       "  </tbody>\n",
       "</table><p>"
      ],
      "text/plain": [
       "<IPython.core.display.HTML object>"
      ]
     },
     "metadata": {},
     "output_type": "display_data"
    }
   ],
   "source": [
    "from huggingface_hub import HfFolder\n",
    "from transformers import Trainer, TrainingArguments\n",
    "from transformers import DataCollatorWithPadding\n",
    "\n",
    "data_collator = DataCollatorWithPadding(tokenizer=tokenizer)\n",
    "\n",
    " \n",
    "# Define training args\n",
    "training_args = TrainingArguments(\n",
    "    output_dir= \"ModernBERT-tweet-classifier-classhead\",\n",
    "    per_device_train_batch_size=32,\n",
    "    per_device_eval_batch_size=32,\n",
    "    learning_rate=10e-6,\n",
    "        num_train_epochs=5,\n",
    "    bf16=True, # bfloat16 training \n",
    "    optim=\"adamw_torch_fused\", # improved optimizer \n",
    "    # logging & evaluation strategies\n",
    "    logging_strategy=\"steps\",\n",
    "    logging_steps=100,\n",
    "    eval_strategy=\"epoch\",\n",
    "    save_strategy=\"epoch\",\n",
    "    save_total_limit=2,\n",
    "    load_best_model_at_end=True,\n",
    "    metric_for_best_model=\"f1\",\n",
    "    # push to hub parameters\n",
    "    # push_to_hub=True,\n",
    "    # hub_strategy=\"every_save\",\n",
    "    # hub_token=HfFolder.get_token(),\n",
    "    # report_to=\"wandb\",\n",
    "    eval_on_start=True,\n",
    "    save_safetensors=False,  # Disable safetensors saving\n",
    ")\n",
    " \n",
    "# Create a Trainer instance\n",
    "trainer = Trainer(\n",
    "    model=model,\n",
    "    args=training_args,\n",
    "    data_collator=data_collator,\n",
    "    train_dataset=tokenized_dataset[\"train\"],\n",
    "    eval_dataset=tokenized_dataset[\"validation\"],\n",
    "    compute_metrics=compute_metrics,\n",
    ")\n",
    "trainer.train()"
   ]
  },
  {
   "cell_type": "code",
   "execution_count": null,
   "metadata": {},
   "outputs": [],
   "source": []
  }
 ],
 "metadata": {
  "kernelspec": {
   "display_name": "base",
   "language": "python",
   "name": "python3"
  },
  "language_info": {
   "codemirror_mode": {
    "name": "ipython",
    "version": 3
   },
   "file_extension": ".py",
   "mimetype": "text/x-python",
   "name": "python",
   "nbconvert_exporter": "python",
   "pygments_lexer": "ipython3",
   "version": "3.11.10"
  }
 },
 "nbformat": 4,
 "nbformat_minor": 2
}
